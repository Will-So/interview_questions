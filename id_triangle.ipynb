{
 "cells": [
  {
   "cell_type": "code",
   "execution_count": 2,
   "metadata": {
    "collapsed": true
   },
   "outputs": [],
   "source": [
    "import numpy as np\n",
    "import pandas as pd"
   ]
  },
  {
   "cell_type": "markdown",
   "metadata": {},
   "source": [
    "## Data Generation"
   ]
  },
  {
   "cell_type": "code",
   "execution_count": 3,
   "metadata": {
    "collapsed": true
   },
   "outputs": [],
   "source": [
    "def generate_isol_data():\n",
    "    # Generate Equilaterial Triangle\n",
    "    a = np.random.randint(1,10)\n",
    "    b = a\n",
    "    c = a + b \n",
    "    return [a, b, c]\n",
    "\n",
    "def generate_equilateral_triangle():\n",
    "    a = np.random.randint(0,10)\n",
    "    return [a, a, a]\n",
    "\n",
    "def generate_no_triangle():\n",
    "    a = np.random.randint(1, 10)\n",
    "    b = np.random.randint(1,10)\n",
    "    c = a + b -2 \n",
    "    return [a,b ,c]\n",
    "\n",
    "def generate_scalene():\n",
    "    a = np.random.randint(1,10)\n",
    "    b = np.random.randint(1,10)\n",
    "    c = a + b + np.random.randint(10,13)\n",
    "    return [a, b, c]\n"
   ]
  },
  {
   "cell_type": "code",
   "execution_count": 13,
   "metadata": {
    "collapsed": false
   },
   "outputs": [],
   "source": [
    "df = pd.DataFrame()\n",
    "rows = []\n",
    "for i in range(100):\n",
    "    rows.append(generate_isol_data())\n",
    "    rows.append(generate_no_triangle())\n",
    "    rows.append(generate_scalene())\n",
    "    rows.append(generate_equilateral_triangle())"
   ]
  },
  {
   "cell_type": "code",
   "execution_count": 14,
   "metadata": {
    "collapsed": false
   },
   "outputs": [],
   "source": [
    "df = df.append(rows)"
   ]
  },
  {
   "cell_type": "markdown",
   "metadata": {},
   "source": [
    "## THE SOLUTION"
   ]
  },
  {
   "cell_type": "code",
   "execution_count": 15,
   "metadata": {
    "collapsed": true
   },
   "outputs": [],
   "source": [
    "def id_triangle(a,b,c):\n",
    "    hyp = max(a, b, c)\n",
    "    lengths = [a, b, c]\n",
    "    short_lengths = lengths.remove(hyp)\n",
    "    a, b = lengths\n",
    "    if a == b == hyp:\n",
    "        return 'Equilaterial'\n",
    "    elif a + b < hyp:\n",
    "        return 'Not a triangle'\n",
    "    elif a == b:\n",
    "        return 'isoloscles'\n",
    "    else:\n",
    "        return 'Scalene'"
   ]
  },
  {
   "cell_type": "code",
   "execution_count": 16,
   "metadata": {
    "collapsed": false
   },
   "outputs": [],
   "source": [
    "df['type'] = df.apply(lambda row: id_triangle(*list(row)), axis=1)"
   ]
  },
  {
   "cell_type": "code",
   "execution_count": 21,
   "metadata": {
    "collapsed": false,
    "scrolled": true
   },
   "outputs": [
    {
     "data": {
      "text/html": [
       "<div>\n",
       "<table border=\"1\" class=\"dataframe\">\n",
       "  <thead>\n",
       "    <tr style=\"text-align: right;\">\n",
       "      <th></th>\n",
       "      <th>0</th>\n",
       "      <th>1</th>\n",
       "      <th>2</th>\n",
       "      <th>type</th>\n",
       "    </tr>\n",
       "  </thead>\n",
       "  <tbody>\n",
       "    <tr>\n",
       "      <th>0</th>\n",
       "      <td>1</td>\n",
       "      <td>1</td>\n",
       "      <td>2</td>\n",
       "      <td>isoloscles</td>\n",
       "    </tr>\n",
       "    <tr>\n",
       "      <th>1</th>\n",
       "      <td>5</td>\n",
       "      <td>4</td>\n",
       "      <td>7</td>\n",
       "      <td>Scalene</td>\n",
       "    </tr>\n",
       "    <tr>\n",
       "      <th>2</th>\n",
       "      <td>8</td>\n",
       "      <td>2</td>\n",
       "      <td>20</td>\n",
       "      <td>Not a triangle</td>\n",
       "    </tr>\n",
       "    <tr>\n",
       "      <th>3</th>\n",
       "      <td>2</td>\n",
       "      <td>2</td>\n",
       "      <td>2</td>\n",
       "      <td>Equilaterial</td>\n",
       "    </tr>\n",
       "    <tr>\n",
       "      <th>4</th>\n",
       "      <td>4</td>\n",
       "      <td>4</td>\n",
       "      <td>8</td>\n",
       "      <td>isoloscles</td>\n",
       "    </tr>\n",
       "  </tbody>\n",
       "</table>\n",
       "</div>"
      ],
      "text/plain": [
       "   0  1   2            type\n",
       "0  1  1   2      isoloscles\n",
       "1  5  4   7         Scalene\n",
       "2  8  2  20  Not a triangle\n",
       "3  2  2   2    Equilaterial\n",
       "4  4  4   8      isoloscles"
      ]
     },
     "execution_count": 21,
     "metadata": {},
     "output_type": "execute_result"
    }
   ],
   "source": [
    "df.head()"
   ]
  },
  {
   "cell_type": "markdown",
   "metadata": {},
   "source": [
    "## Fun Facts"
   ]
  },
  {
   "cell_type": "code",
   "execution_count": 22,
   "metadata": {
    "collapsed": true
   },
   "outputs": [],
   "source": [
    "row = df.iloc[1]"
   ]
  },
  {
   "cell_type": "code",
   "execution_count": 23,
   "metadata": {
    "collapsed": false,
    "scrolled": true
   },
   "outputs": [
    {
     "name": "stdout",
     "output_type": "stream",
     "text": [
      "5 4 7 Scalene\n"
     ]
    }
   ],
   "source": [
    "print(*list(row))"
   ]
  },
  {
   "cell_type": "code",
   "execution_count": 30,
   "metadata": {
    "collapsed": false
   },
   "outputs": [],
   "source": [
    "df.columns = iter('abcd')"
   ]
  },
  {
   "cell_type": "code",
   "execution_count": 31,
   "metadata": {
    "collapsed": true
   },
   "outputs": [],
   "source": [
    "def helper(df, n, p):\n",
    "    count = len(df[df.a == 2])\n",
    "    return count, n, p\n"
   ]
  },
  {
   "cell_type": "code",
   "execution_count": 32,
   "metadata": {
    "collapsed": false
   },
   "outputs": [
    {
     "data": {
      "text/plain": [
       "0      (40, 2, 5)\n",
       "1      (40, 2, 5)\n",
       "2      (40, 2, 5)\n",
       "3      (40, 2, 5)\n",
       "4      (40, 2, 5)\n",
       "5      (40, 2, 5)\n",
       "6      (40, 2, 5)\n",
       "7      (40, 2, 5)\n",
       "8      (40, 2, 5)\n",
       "9      (40, 2, 5)\n",
       "10     (40, 2, 5)\n",
       "11     (40, 2, 5)\n",
       "12     (40, 2, 5)\n",
       "13     (40, 2, 5)\n",
       "14     (40, 2, 5)\n",
       "15     (40, 2, 5)\n",
       "16     (40, 2, 5)\n",
       "17     (40, 2, 5)\n",
       "18     (40, 2, 5)\n",
       "19     (40, 2, 5)\n",
       "20     (40, 2, 5)\n",
       "21     (40, 2, 5)\n",
       "22     (40, 2, 5)\n",
       "23     (40, 2, 5)\n",
       "24     (40, 2, 5)\n",
       "25     (40, 2, 5)\n",
       "26     (40, 2, 5)\n",
       "27     (40, 2, 5)\n",
       "28     (40, 2, 5)\n",
       "29     (40, 2, 5)\n",
       "          ...    \n",
       "370    (40, 2, 5)\n",
       "371    (40, 2, 5)\n",
       "372    (40, 2, 5)\n",
       "373    (40, 2, 5)\n",
       "374    (40, 2, 5)\n",
       "375    (40, 2, 5)\n",
       "376    (40, 2, 5)\n",
       "377    (40, 2, 5)\n",
       "378    (40, 2, 5)\n",
       "379    (40, 2, 5)\n",
       "380    (40, 2, 5)\n",
       "381    (40, 2, 5)\n",
       "382    (40, 2, 5)\n",
       "383    (40, 2, 5)\n",
       "384    (40, 2, 5)\n",
       "385    (40, 2, 5)\n",
       "386    (40, 2, 5)\n",
       "387    (40, 2, 5)\n",
       "388    (40, 2, 5)\n",
       "389    (40, 2, 5)\n",
       "390    (40, 2, 5)\n",
       "391    (40, 2, 5)\n",
       "392    (40, 2, 5)\n",
       "393    (40, 2, 5)\n",
       "394    (40, 2, 5)\n",
       "395    (40, 2, 5)\n",
       "396    (40, 2, 5)\n",
       "397    (40, 2, 5)\n",
       "398    (40, 2, 5)\n",
       "399    (40, 2, 5)\n",
       "dtype: object"
      ]
     },
     "execution_count": 32,
     "metadata": {},
     "output_type": "execute_result"
    }
   ],
   "source": [
    "df.apply(lambda row: helper(df, 2 , 5 ), axis=1)"
   ]
  },
  {
   "cell_type": "code",
   "execution_count": null,
   "metadata": {
    "collapsed": true
   },
   "outputs": [],
   "source": []
  }
 ],
 "metadata": {
  "kernelspec": {
   "display_name": "Python 3",
   "language": "python",
   "name": "python3"
  },
  "language_info": {
   "codemirror_mode": {
    "name": "ipython",
    "version": 3
   },
   "file_extension": ".py",
   "mimetype": "text/x-python",
   "name": "python",
   "nbconvert_exporter": "python",
   "pygments_lexer": "ipython3",
   "version": "3.4.3"
  }
 },
 "nbformat": 4,
 "nbformat_minor": 0
}
