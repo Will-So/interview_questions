{
 "cells": [
  {
   "cell_type": "markdown",
   "metadata": {},
   "source": [
    "1. Make sample data. 2 distributions. \n",
    "2. Deal with outliers in various ways\n",
    "3. "
   ]
  },
  {
   "cell_type": "markdown",
   "metadata": {},
   "source": [
    "# Data Generation"
   ]
  },
  {
   "cell_type": "code",
   "execution_count": 66,
   "metadata": {
    "collapsed": false
   },
   "outputs": [],
   "source": [
    "num_outliers = int(1e5)\n",
    "num_normal = int(1e6)"
   ]
  },
  {
   "cell_type": "code",
   "execution_count": 85,
   "metadata": {
    "collapsed": false,
    "scrolled": true
   },
   "outputs": [],
   "source": [
    "import numpy as np\n",
    "import pandas as pd\n",
    "x = np.random.randint(2,100, num_normal)\n",
    "y_normal = 5 + 20 * np.log(x) + np.random.normal(0,10, num_normal)\n",
    "\n",
    "# Add outliers\n",
    "x_out  = np.random.randint(2,100, num_outliers)\n",
    "outliers = 5 + 20 * np.log(x_out) + np.random.normal(100,2000, num_outliers)\n",
    "y = np.append(y_normal, outliers)"
   ]
  },
  {
   "cell_type": "code",
   "execution_count": 86,
   "metadata": {
    "collapsed": false,
    "scrolled": true
   },
   "outputs": [],
   "source": [
    "no_outliers = pd.DataFrame(dict(x=x, y=y_normal))\n",
    "with_outliers = pd.DataFrame(dict(x=np.append(x_out, x), y=y))"
   ]
  },
  {
   "cell_type": "code",
   "execution_count": 87,
   "metadata": {
    "collapsed": false
   },
   "outputs": [
    {
     "data": {
      "text/plain": [
       "0.09090909090909091"
      ]
     },
     "execution_count": 87,
     "metadata": {},
     "output_type": "execute_result"
    }
   ],
   "source": [
    "num_outliers / (num_normal + num_outliers)"
   ]
  },
  {
   "cell_type": "markdown",
   "metadata": {},
   "source": [
    "# Descriptive Stats"
   ]
  },
  {
   "cell_type": "code",
   "execution_count": 88,
   "metadata": {
    "collapsed": false,
    "scrolled": false
   },
   "outputs": [
    {
     "data": {
      "text/html": [
       "<div>\n",
       "<table border=\"1\" class=\"dataframe\">\n",
       "  <thead>\n",
       "    <tr style=\"text-align: right;\">\n",
       "      <th></th>\n",
       "      <th>x</th>\n",
       "      <th>y</th>\n",
       "    </tr>\n",
       "  </thead>\n",
       "  <tbody>\n",
       "    <tr>\n",
       "      <th>count</th>\n",
       "      <td>1000000.000000</td>\n",
       "      <td>1000000.000000</td>\n",
       "    </tr>\n",
       "    <tr>\n",
       "      <th>mean</th>\n",
       "      <td>50.500580</td>\n",
       "      <td>78.267367</td>\n",
       "    </tr>\n",
       "    <tr>\n",
       "      <th>std</th>\n",
       "      <td>28.299911</td>\n",
       "      <td>19.755193</td>\n",
       "    </tr>\n",
       "    <tr>\n",
       "      <th>min</th>\n",
       "      <td>2.000000</td>\n",
       "      <td>-22.940386</td>\n",
       "    </tr>\n",
       "    <tr>\n",
       "      <th>25%</th>\n",
       "      <td>26.000000</td>\n",
       "      <td>67.652161</td>\n",
       "    </tr>\n",
       "    <tr>\n",
       "      <th>50%</th>\n",
       "      <td>51.000000</td>\n",
       "      <td>81.543449</td>\n",
       "    </tr>\n",
       "    <tr>\n",
       "      <th>75%</th>\n",
       "      <td>75.000000</td>\n",
       "      <td>92.192116</td>\n",
       "    </tr>\n",
       "    <tr>\n",
       "      <th>max</th>\n",
       "      <td>99.000000</td>\n",
       "      <td>140.672422</td>\n",
       "    </tr>\n",
       "  </tbody>\n",
       "</table>\n",
       "</div>"
      ],
      "text/plain": [
       "                    x               y\n",
       "count  1000000.000000  1000000.000000\n",
       "mean        50.500580       78.267367\n",
       "std         28.299911       19.755193\n",
       "min          2.000000      -22.940386\n",
       "25%         26.000000       67.652161\n",
       "50%         51.000000       81.543449\n",
       "75%         75.000000       92.192116\n",
       "max         99.000000      140.672422"
      ]
     },
     "execution_count": 88,
     "metadata": {},
     "output_type": "execute_result"
    }
   ],
   "source": [
    "no_outliers.describe()"
   ]
  },
  {
   "cell_type": "code",
   "execution_count": 89,
   "metadata": {
    "collapsed": false,
    "scrolled": true
   },
   "outputs": [
    {
     "data": {
      "text/html": [
       "<div>\n",
       "<table border=\"1\" class=\"dataframe\">\n",
       "  <thead>\n",
       "    <tr style=\"text-align: right;\">\n",
       "      <th></th>\n",
       "      <th>x</th>\n",
       "      <th>y</th>\n",
       "    </tr>\n",
       "  </thead>\n",
       "  <tbody>\n",
       "    <tr>\n",
       "      <th>count</th>\n",
       "      <td>1100000.000000</td>\n",
       "      <td>1100000.000000</td>\n",
       "    </tr>\n",
       "    <tr>\n",
       "      <th>mean</th>\n",
       "      <td>50.488776</td>\n",
       "      <td>87.837691</td>\n",
       "    </tr>\n",
       "    <tr>\n",
       "      <th>std</th>\n",
       "      <td>28.298580</td>\n",
       "      <td>602.892002</td>\n",
       "    </tr>\n",
       "    <tr>\n",
       "      <th>min</th>\n",
       "      <td>2.000000</td>\n",
       "      <td>-7896.248154</td>\n",
       "    </tr>\n",
       "    <tr>\n",
       "      <th>25%</th>\n",
       "      <td>26.000000</td>\n",
       "      <td>65.849042</td>\n",
       "    </tr>\n",
       "    <tr>\n",
       "      <th>50%</th>\n",
       "      <td>51.000000</td>\n",
       "      <td>81.634927</td>\n",
       "    </tr>\n",
       "    <tr>\n",
       "      <th>75%</th>\n",
       "      <td>75.000000</td>\n",
       "      <td>93.410022</td>\n",
       "    </tr>\n",
       "    <tr>\n",
       "      <th>max</th>\n",
       "      <td>99.000000</td>\n",
       "      <td>8989.221181</td>\n",
       "    </tr>\n",
       "  </tbody>\n",
       "</table>\n",
       "</div>"
      ],
      "text/plain": [
       "                    x               y\n",
       "count  1100000.000000  1100000.000000\n",
       "mean        50.488776       87.837691\n",
       "std         28.298580      602.892002\n",
       "min          2.000000    -7896.248154\n",
       "25%         26.000000       65.849042\n",
       "50%         51.000000       81.634927\n",
       "75%         75.000000       93.410022\n",
       "max         99.000000     8989.221181"
      ]
     },
     "execution_count": 89,
     "metadata": {},
     "output_type": "execute_result"
    }
   ],
   "source": [
    "with_outliers.describe()"
   ]
  },
  {
   "cell_type": "markdown",
   "metadata": {},
   "source": [
    "From the descriptive stats, we can see a major difference in standard deviations, the min, and the max, value. The mean is also more than 10% higher. "
   ]
  },
  {
   "cell_type": "code",
   "execution_count": 98,
   "metadata": {
    "collapsed": false
   },
   "outputs": [
    {
     "name": "stdout",
     "output_type": "stream",
     "text": [
      "Percentile: 0.9  With Outliers:  103.924632443  No Outliers:  100.322262312\n",
      "Percentile: 0.91  With Outliers:  105.177484249  No Outliers:  101.081285426\n",
      "Percentile: 0.92  With Outliers:  106.655302801  No Outliers:  101.876366286\n",
      "Percentile: 0.93  With Outliers:  108.541204374  No Outliers:  102.771271513\n",
      "Percentile: 0.94  With Outliers:  111.238322606  No Outliers:  103.754235969\n",
      "Percentile: 0.95  With Outliers:  116.995506972  No Outliers:  104.858671314\n",
      "Percentile: 0.96  With Outliers:  487.569114232  No Outliers:  106.135652725\n",
      "Percentile: 0.97  With Outliers:  1064.79688972  No Outliers:  107.697239987\n",
      "Percentile: 0.98  With Outliers:  1724.50069932  No Outliers:  109.752603843\n",
      "\n",
      "\n",
      "Percentile: 0.01  With Outliers:  -2259.87352384  No Outliers:  20.0330205008\n",
      "Percentile: 0.02  With Outliers:  -1357.38530685  No Outliers:  27.2645370321\n",
      "Percentile: 0.03  With Outliers:  -704.819409352  No Outliers:  32.2840894667\n",
      "Percentile: 0.04  With Outliers:  -122.696747035  No Outliers:  36.2986237352\n",
      "Percentile: 0.05  With Outliers:  18.3160024431  No Outliers:  39.5769143555\n",
      "Percentile: 0.06  With Outliers:  26.7163585291  No Outliers:  42.4409400673\n",
      "Percentile: 0.07  With Outliers:  32.2898576171  No Outliers:  44.9371719864\n",
      "Percentile: 0.08  With Outliers:  36.6316849532  No Outliers:  47.1549276253\n",
      "Percentile: 0.09  With Outliers:  40.1462667056  No Outliers:  49.1231106213\n",
      "Percentile: 0.1  With Outliers:  43.1712631238  No Outliers:  50.9132009962\n",
      "Percentile: 0.11  With Outliers:  45.7924080853  No Outliers:  52.5918154371\n",
      "Percentile: 0.12  With Outliers:  48.1045982767  No Outliers:  54.1386965428\n",
      "Percentile: 0.13  With Outliers:  50.1686452236  No Outliers:  55.5676686797\n",
      "Percentile: 0.14  With Outliers:  52.0416535566  No Outliers:  56.9041076797\n"
     ]
    }
   ],
   "source": [
    "for i in np.arange(.9,.99,.01):\n",
    "    print('Percentile:', i, ' With Outliers: ', with_outliers.y.quantile(i), \n",
    "          \" No Outliers: \", no_outliers.y.quantile(i))\n",
    "print('\\n')\n",
    "for i in np.arange(.01,.15,.01):\n",
    "    print('Percentile:', i, ' With Outliers: ', with_outliers.y.quantile(i), \n",
    "          \" No Outliers: \", no_outliers.y.quantile(i))"
   ]
  },
  {
   "cell_type": "markdown",
   "metadata": {},
   "source": [
    "So here we can see that even at the 90th percentile, the outliers are not serverely affecting our dataset. It isn't until the 97th percentile that we see a difference greater than a standard deviation but then it really explodes."
   ]
  },
  {
   "cell_type": "markdown",
   "metadata": {},
   "source": [
    "# How the outliers affect our results"
   ]
  },
  {
   "cell_type": "code",
   "execution_count": null,
   "metadata": {
    "collapsed": true
   },
   "outputs": [],
   "source": []
  }
 ],
 "metadata": {
  "kernelspec": {
   "display_name": "Python 3",
   "language": "python",
   "name": "python3"
  },
  "language_info": {
   "codemirror_mode": {
    "name": "ipython",
    "version": 3
   },
   "file_extension": ".py",
   "mimetype": "text/x-python",
   "name": "python",
   "nbconvert_exporter": "python",
   "pygments_lexer": "ipython3",
   "version": "3.4.3"
  }
 },
 "nbformat": 4,
 "nbformat_minor": 0
}
