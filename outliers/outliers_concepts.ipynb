{
 "cells": [
  {
   "cell_type": "markdown",
   "metadata": {},
   "source": [
    "# TODO"
   ]
  },
  {
   "cell_type": "markdown",
   "metadata": {},
   "source": [
    "- Double check relation between winsozring and Huber Loss function\n",
    "- Make an example\n",
    "- Example of log transformations\n",
    "- Example of winsorizing outliers\n"
   ]
  },
  {
   "cell_type": "markdown",
   "metadata": {},
   "source": [
    "# Q: What are some ways to make Models Robust to Outliers"
   ]
  },
  {
   "cell_type": "markdown",
   "metadata": {},
   "source": [
    "# Making Robust Models"
   ]
  },
  {
   "cell_type": "markdown",
   "metadata": {},
   "source": [
    "One of the more difficult part of making predictive models is making sure that our model is robust to outliers. Fitting data strongly to outliers tends to give us bad predictive results. There are two solution that will work well in most cases and the are a few other methods worth considering when the first two either fail or are impracticle."
   ]
  },
  {
   "cell_type": "markdown",
   "metadata": {},
   "source": [
    "## Use a robust loss function"
   ]
  },
  {
   "cell_type": "markdown",
   "metadata": {},
   "source": [
    "Mean squared error (MSE) and thus root mean squared error (RMSE) are very sensitive to outliers ([1](#footnotes)). Sometimes, this is desirable where we want to punish an error of 20 much more than an error of 5. (400 vs 25). This is not desirable when we are trying to avoid undue \n",
    "\n",
    "Mean Absolute Error is somewhat less sensitive to outliars because it does not square the errors. It is not \"robust\" to outliers but it represents a middle ground between traditional loss functions and methods discussed below. "
   ]
  },
  {
   "cell_type": "markdown",
   "metadata": {},
   "source": [
    "### The Huber Loss function"
   ]
  },
  {
   "cell_type": "markdown",
   "metadata": {},
   "source": [
    "One of the better loss functions to choose is the Huber Loss function. It is [defined](http://en.wikipedia.org/wiki/Huber_loss) as:\n",
    "\n",
    "$$L_\\delta (a) = \\begin{cases}\n",
    " \\frac{1}{2}{a^2}                   & \\text{for } |a| \\le \\delta, \\\\\n",
    " \\delta (|a| - \\frac{1}{2}\\delta), & \\text{otherwise.}\n",
    "\\end{cases}$$\n",
    "\n",
    "This has the effect of combining Squared Errors and Absolute Errors. For $|a| \\le \\delta$, the error function represents the RMSE. For $|a| \\ge \\delta$, the error function represents LAD.\n",
    "\n"
   ]
  },
  {
   "cell_type": "markdown",
   "metadata": {},
   "source": [
    "## Winsorizing the Data"
   ]
  },
  {
   "cell_type": "markdown",
   "metadata": {},
   "source": [
    "Winsorizing the data provides the same results as the Huber Loss Function when $\\delta$ in the huber loss function is equal to the point at which the value is winsorized. This has a large disadvantage compared to the Huber Loss Function in that we are making changes to the dataset. That leaves us with a choice between making two copies of the data (one winsorized and non-winsorized) or discarding some information that may come in useful in future analysis. The former may not be practical for very large datasets.\n",
    "\n",
    "An advantage of winsorizing data is that it makes it easy to visualize that data in a meaningful way. \n",
    "\n",
    "\n",
    "Pandas has `pd.clip()` for this capability which makes it easy to use. "
   ]
  },
  {
   "cell_type": "markdown",
   "metadata": {},
   "source": [
    "![](http://upload.wikimedia.org/wikipedia/commons/c/c1/RhoFunctions.png)\n",
    "Source: Wikipedia"
   ]
  },
  {
   "cell_type": "markdown",
   "metadata": {},
   "source": [
    "## Discarding Outliers"
   ]
  },
  {
   "cell_type": "markdown",
   "metadata": {},
   "source": [
    "Most data munging has outliers that are almost certainly products of measurement errors or very rare anomalies. \n",
    "\n",
    "Some examples of this:\n",
    "\n",
    "1. Demographic surveys where someone has 17 PhDs\n",
    "2. Someone borrowing from lending club with a yearly income of 7M.\n",
    "3. A stock transaction with a trade time before stock markets opened.\n",
    "\n",
    "Even in the event some of those observations were accurately measures (quite unlikely), they almost surely lack external validity so will only hurt the performance of our model unless we delete them."
   ]
  },
  {
   "cell_type": "markdown",
   "metadata": {},
   "source": [
    "## Use a Model that is Robust to Standard Errors"
   ]
  },
  {
   "cell_type": "markdown",
   "metadata": {},
   "source": [
    "Support Vector Machines in particular tend to not consider outliers during training. Gradient Boosting, and Random Forests also have nice properties that make it difficult (but not impossible) to overfit a training dataset. "
   ]
  },
  {
   "cell_type": "markdown",
   "metadata": {},
   "source": [
    "# A Bad method: Log transforms"
   ]
  },
  {
   "cell_type": "markdown",
   "metadata": {},
   "source": [
    "Log transforms are often mooted as a good way to make outliers stand out less. When we use a log transform we are allowing the outliers to dictate how we describe **all of our observations**. This is just the opposite of using a robust measure.\n",
    "\n",
    "This is not to say that log transforms should not be used. There are many situations when log transforms should be used **due to the behavior of all the observations**:\n",
    "\n",
    "1. When the errors have an extreme positvely skewed distribution. We then use the [Box-Cox](http://en.wikipedia.org/wiki/Power_transform#Box.E2.80.93Cox_transformation). This allows us to improve the validity of the Pearson Correlation coefficient, stabalize variance, and in general make traditional descriptive statistics more meaningful.\n",
    "2. When the relationship being investigates is close to exponential.\n",
    "3. When you want to represent a model that explains the explanatory variables' influence in terms of percentages (relative values) rather than absolute differences. "
   ]
  },
  {
   "cell_type": "markdown",
   "metadata": {},
   "source": [
    "# <a id='footnotes'></a> Footnotes"
   ]
  },
  {
   "cell_type": "markdown",
   "metadata": {},
   "source": [
    "[1]: This is easy to see from the mathematical definition of MSE: $1/n \\sum( \\hat Y_i- Y_i)^2$. Since the distance between the sample mean and the datapoint is squared, it exaggerates the influence of outliers. "
   ]
  },
  {
   "cell_type": "markdown",
   "metadata": {},
   "source": [
    "# References"
   ]
  },
  {
   "cell_type": "markdown",
   "metadata": {},
   "source": [
    "- http://stats.stackexchange.com/questions/48267/mean-absolute-error-or-root-mean-squared-error\n",
    "- http://projecteuclid.org/download/pdf_1/euclid.aoms/1177703732"
   ]
  }
 ],
 "metadata": {
  "kernelspec": {
   "display_name": "Python 3",
   "language": "python",
   "name": "python3"
  },
  "language_info": {
   "codemirror_mode": {
    "name": "ipython",
    "version": 3
   },
   "file_extension": ".py",
   "mimetype": "text/x-python",
   "name": "python",
   "nbconvert_exporter": "python",
   "pygments_lexer": "ipython3",
   "version": "3.4.3"
  }
 },
 "nbformat": 4,
 "nbformat_minor": 0
}
