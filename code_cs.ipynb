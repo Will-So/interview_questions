{
 "cells": [
  {
   "cell_type": "markdown",
   "metadata": {},
   "source": [
    "# General"
   ]
  },
  {
   "cell_type": "markdown",
   "metadata": {},
   "source": [
    "If it involves big if logic then go ahead and use select directty\n",
    "\n",
    "http://nbviewer.jupyter.org/github/pybokeh/jupyter_notebooks/blob/master/pandas/PandasCheatSheet.ipynb"
   ]
  },
  {
   "cell_type": "markdown",
   "metadata": {},
   "source": [
    "# Pandas"
   ]
  },
  {
   "cell_type": "markdown",
   "metadata": {},
   "source": [
    "Value Counts\n",
    "\n",
    "```python\n",
    "\n",
    "times = pd.to_datetime(df.timestamp_col)\n",
    "df.groupby([times.hour, times.minute]).value_col.sum()\n",
    "\n",
    "dates = pd.date_range('20130101',periods=6)\n",
    "df = pd.DataFrame(np.random.randn(6,4),index=dates,columns=list('ABCD'))\n",
    "\n",
    "df.query('A > 0 & A < 1')\n",
    "\n",
    "tips[(tips['size'] >= 5) | (tips['total_bill'] > 45)]\n",
    " \n",
    "tips.groupby('sex').count()\n",
    "\n",
    "tips.groupby('day').agg({'tip': np.mean, 'day': np.size})\n",
    "\n",
    "```\n",
    "length function when necessary\n",
    "\n",
    "`size()` and `value_counts()` are also going to be good. "
   ]
  },
  {
   "cell_type": "markdown",
   "metadata": {},
   "source": [
    "# SQl\n"
   ]
  },
  {
   "cell_type": "markdown",
   "metadata": {},
   "source": [
    "Group BY needs to use an aggregation. "
   ]
  },
  {
   "cell_type": "markdown",
   "metadata": {},
   "source": [
    "```SQL \n",
    "SELECT year,\n",
    "       COUNT(*) AS count\n",
    "  FROM tutorial.aapl_historical_stock_price\n",
    " GROUP BY year\n",
    " \n",
    " SELECT day, AVG(tip), COUNT(*)\n",
    "FROM tips\n",
    "GROUP BY day;```"
   ]
  },
  {
   "cell_type": "markdown",
   "metadata": {},
   "source": [
    "## Distinct Values"
   ]
  },
  {
   "cell_type": "markdown",
   "metadata": {},
   "source": [
    "```SQL \n",
    "SELECT DISTINCT month\n",
    "  FROM tutorial.aapl_historical_stock_price```"
   ]
  },
  {
   "cell_type": "markdown",
   "metadata": {},
   "source": [
    "## Case When"
   ]
  },
  {
   "cell_type": "markdown",
   "metadata": {},
   "source": [
    "```\n",
    "SELECT CASE WHEN year = 'FR' THEN 'FR'\n",
    "            WHEN year = 'SO' THEN 'SO'\n",
    "            WHEN year = 'JR' THEN 'JR'\n",
    "            WHEN year = 'SR' THEN 'SR'\n",
    "            ELSE 'No Year Data' END AS year_group,\n",
    "            COUNT(1) AS count\n",
    "  FROM benn.college_football_players\n",
    " GROUP BY 1\n",
    " ```"
   ]
  },
  {
   "cell_type": "markdown",
   "metadata": {},
   "source": [
    "## Joins\n",
    "\n",
    "```SQL\n",
    "SELECT players.school_name AS players_school_name,\n",
    "       teams.school_name AS teams_school_name\n",
    "  FROM benn.college_football_players players\n",
    "  JOIN benn.college_football_teams teams\n",
    "    ON teams.school_name = players.school_name\n",
    "    \n",
    "SELECT companies.permalink AS companies_permalink,\n",
    "       companies.name AS companies_name,\n",
    "       acquisitions.company_permalink AS acquisitions_permalink,\n",
    "       acquisitions.acquired_at AS acquired_date\n",
    "  FROM tutorial.crunchbase_companies companies\n",
    "  LEFT JOIN tutorial.crunchbase_acquisitions acquisitions\n",
    "    ON companies.permalink = acquisitions.company_permalink\n",
    "   AND acquisitions.company_permalink != '/company/1000memories'\n",
    " ORDER BY 1\n",
    " ```\n",
    " ## Difficult Problem from Yesterday\n",
    " \n",
    " ```SQL\n",
    "SELECT\n",
    "    AgentId, \n",
    "    Agent,\n",
    "    SUM(CASE WHEN B = 0 THEN 1.00 ELSE 0.00 END) / COUNT(*) AS NEG, \n",
    "    SUM(CASE WHEN B = 1 THEN 1.00 ELSE 0.00 END) / COUNT(*)  AS POS\n",
    "FROM\n",
    "    YOURTABLE\n",
    "GROUP BY\n",
    "    AgentId, \n",
    "    Agent\n",
    "```"
   ]
  },
  {
   "cell_type": "markdown",
   "metadata": {},
   "source": [
    "## Subqueries\n",
    "\n",
    "> Sub-queries are the logically correct way to solve problems of the form, \"Get facts from A, conditional on facts from B\". In such instances, it makes more logical sense to stick B in a sub-query than to do a join. It is also safer, in a practical sense, since you don't have to be cautious about getting duplicated facts from A due to multiple matches against B."
   ]
  },
  {
   "cell_type": "markdown",
   "metadata": {},
   "source": [
    "Use `EXPLAIN` to see how the database executes the query. \n",
    "\n",
    "```SQL\n",
    "EXPLAIN SELECT vrl.list_id,vrl.ontology_id,vrl.position,l.name AS list_name, vrlih.position AS previous_position, vrl.moved_date \n",
    "FROM `vote-ranked-listory` vrl \n",
    "INNER JOIN lists l ON l.list_id = vrl.list_id \n",
    "INNER JOIN `vote-ranked-list-item-history` vrlih ON vrl.list_id = vrlih.list_id AND vrl.ontology_id=vrlih.ontology_id AND vrlih.type='PREVIOUS_POSITION' \n",
    "INNER JOIN list_burial_state lbs ON lbs.list_id = vrl.list_id AND lbs.burial_score < 0.5 \n",
    "WHERE vrl.position <= 15 AND l.status='ACTIVE' AND l.is_public=1 AND vrl.ontology_id < 1000000000 \n",
    " AND (SELECT list_id FROM list_tag WHERE list_id=l.list_id AND tag_id=43) IS NULL \n",
    " AND (SELECT list_id FROM list_tag WHERE list_id=l.list_id AND tag_id=55) IS NULL \n",
    " AND (SELECT list_id FROM list_tag WHERE list_id=l.list_id AND tag_id=246403) IS NOT NULL \n",
    "ORDER BY vrl.moved_date DESC LIMIT 200;\n",
    "\n",
    "```"
   ]
  },
  {
   "cell_type": "code",
   "execution_count": null,
   "metadata": {
    "collapsed": true
   },
   "outputs": [],
   "source": []
  }
 ],
 "metadata": {
  "kernelspec": {
   "display_name": "Python 3",
   "language": "python",
   "name": "python3"
  },
  "language_info": {
   "codemirror_mode": {
    "name": "ipython",
    "version": 3
   },
   "file_extension": ".py",
   "mimetype": "text/x-python",
   "name": "python",
   "nbconvert_exporter": "python",
   "pygments_lexer": "ipython3",
   "version": "3.4.3"
  }
 },
 "nbformat": 4,
 "nbformat_minor": 0
}
