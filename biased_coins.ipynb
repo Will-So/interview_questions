{
 "cells": [
  {
   "cell_type": "markdown",
   "metadata": {},
   "source": [
    "# Generating the Biased Coins "
   ]
  },
  {
   "cell_type": "markdown",
   "metadata": {},
   "source": [
    "Author: Will Sorenson\n",
    "\n",
    "We use a binomial distribution for coin flips due to the binary nature of the problem:"
   ]
  },
  {
   "cell_type": "code",
   "execution_count": 1,
   "metadata": {
    "collapsed": true
   },
   "outputs": [],
   "source": [
    "import numpy as np"
   ]
  },
  {
   "cell_type": "code",
   "execution_count": 19,
   "metadata": {
    "collapsed": false
   },
   "outputs": [],
   "source": [
    "flips = 5000\n",
    "first_coin = np.random.binomial(1, .05, size=flips)\n",
    "second_coin = np.random.binomial(1, .02, size=flips)"
   ]
  },
  {
   "cell_type": "code",
   "execution_count": 20,
   "metadata": {
    "collapsed": false,
    "scrolled": true
   },
   "outputs": [
    {
     "name": "stdout",
     "output_type": "stream",
     "text": [
      "Coin 1 drew heads 5.16% of the time \n",
      "Coin 2 drew heads 2.0% of the time\n"
     ]
    }
   ],
   "source": [
    "print(\"Coin 1 drew heads {}% of the time \\nCoin 2 drew heads {}% of the time\"\n",
    "     .format(sum(first_coin) * 100 / flips, sum(second_coin) * 100 /flips) )"
   ]
  },
  {
   "cell_type": "markdown",
   "metadata": {},
   "source": [
    "# Can we Conclude whether Coin 1 and Coin 2 are different?"
   ]
  },
  {
   "cell_type": "markdown",
   "metadata": {},
   "source": [
    "We can do a standard hypothsis test to determine whether we can say that $P(C1) = Heads \\ne P(C2)=Heads$. Our null hypothesis $H_0$ is that $P(C1) = P(C2)$ and our alternative hypothsis is that the probabilities differ. We will reject the null hypothesis if the p-value of our results is less than .05.\n",
    "\n",
    "We use Student's T-Test:\n",
    "\n",
    "$$  t = \\frac{\\bar {X}_1 - \\bar{X}_2}{\\sqrt{s_{X_1}^2+s_{X_2}^2} \\cdot \\sqrt{\\frac{1}{n}}} $$ where $s$ is the sample standard deviation and $n$ is the sample size. "
   ]
  },
  {
   "cell_type": "code",
   "execution_count": 21,
   "metadata": {
    "collapsed": true
   },
   "outputs": [],
   "source": [
    "from scipy.stats import ttest_ind"
   ]
  },
  {
   "cell_type": "code",
   "execution_count": 28,
   "metadata": {
    "collapsed": false
   },
   "outputs": [
    {
     "name": "stdout",
     "output_type": "stream",
     "text": [
      "T-static is: 8.53423724333 The P-Value is: 1.61573203868e-17\n"
     ]
    }
   ],
   "source": [
    "test = ttest_ind(first_coin, second_coin)\n",
    "print(\"T-statistic is:\", test.statistic, \"The P-Value is:\", test.pvalue)"
   ]
  },
  {
   "cell_type": "markdown",
   "metadata": {},
   "source": [
    "This is an extremely large T-Statistic and an extremely small p-value so we can say with a very large degree of confidence that the two coins have different probabilities of yielding heads so we reject the null hypothesis.\n",
    "\n",
    "**Conclusion: 5000 coin flips is more than enough to determine that these 2 coins are different.**"
   ]
  }
 ],
 "metadata": {
  "kernelspec": {
   "display_name": "Python 3",
   "language": "python",
   "name": "python3"
  },
  "language_info": {
   "codemirror_mode": {
    "name": "ipython",
    "version": 3
   },
   "file_extension": ".py",
   "mimetype": "text/x-python",
   "name": "python",
   "nbconvert_exporter": "python",
   "pygments_lexer": "ipython3",
   "version": "3.4.4"
  }
 },
 "nbformat": 4,
 "nbformat_minor": 0
}
