{
 "cells": [
  {
   "cell_type": "markdown",
   "metadata": {},
   "source": [
    "# Introduction"
   ]
  },
  {
   "cell_type": "markdown",
   "metadata": {},
   "source": [
    "This short essay describes a couple of the key concepts used when compressing data.\n",
    "\n",
    "All of these encodings apply the same mathematical principle. We transform a set of large integers to mostly smaller integers. This essay does not intend to present a comprehensive overview of data compression. Rather, it gives engineers enough intuitive knowledge to get an intuition of how compression works. "
   ]
  },
  {
   "cell_type": "markdown",
   "metadata": {},
   "source": [
    "## General Theme"
   ]
  },
  {
   "cell_type": "markdown",
   "metadata": {},
   "source": [
    "All file compresion techniques apply the same principle. They use an invertible transformation to convert integers into smaller integers. "
   ]
  },
  {
   "cell_type": "markdown",
   "metadata": {},
   "source": [
    "# Lossless Data Compression"
   ]
  },
  {
   "cell_type": "markdown",
   "metadata": {},
   "source": []
  },
  {
   "cell_type": "markdown",
   "metadata": {},
   "source": [
    "## Dictionary Compression"
   ]
  },
  {
   "cell_type": "markdown",
   "metadata": {},
   "source": [
    "##  Run Length Encoding"
   ]
  },
  {
   "cell_type": "markdown",
   "metadata": {},
   "source": [
    "When the same data value occurs in many consectutive data elements, they can be stored as a single data value and a count. This is called run length encoding (RLE). A `run` of data is one of these consecutive data sequences. \n",
    "\n",
    "A famous example is as follows:\n",
    "\n",
    "`WWWWWWWWWWWWBWWWWWWWWWWWWBBBWWWWWWWWWWWWWWWWWWWWWWWWBWWWWWWWWWWWWWW `\n",
    "\n",
    "`12W1B12W3B24W1B14W `"
   ]
  },
  {
   "cell_type": "markdown",
   "metadata": {},
   "source": [
    "## Frame of reference Encoding"
   ]
  },
  {
   "cell_type": "markdown",
   "metadata": {},
   "source": [
    "We can use frame of reference encoding when we have a sequence of values that all lie a similar range. Say you have thousands of integers but all of them range from 50-60 such as `50, 52, 54, 57`. We can then make 50 0, 52 2, 54 2, and 57 3. \n",
    "\n",
    "This leads to smaller numbers and thus smaller bits. "
   ]
  },
  {
   "cell_type": "markdown",
   "metadata": {},
   "source": [
    "## Delta Encoding"
   ]
  },
  {
   "cell_type": "markdown",
   "metadata": {},
   "source": [
    "Delta encoding stores differences between sequential data. The difference between two data values is the only information required to obtain one value from the other. See relative entropy"
   ]
  },
  {
   "cell_type": "markdown",
   "metadata": {},
   "source": [
    "## Lempel-Ziv compression"
   ]
  },
  {
   "cell_type": "markdown",
   "metadata": {},
   "source": [
    "http://www-math.mit.edu/~shor/PAM/lempel_ziv_notes.pdf"
   ]
  },
  {
   "cell_type": "markdown",
   "metadata": {},
   "source": [
    "# Lossy Data Compression "
   ]
  },
  {
   "cell_type": "markdown",
   "metadata": {},
   "source": [
    "# Extensions"
   ]
  },
  {
   "cell_type": "markdown",
   "metadata": {},
   "source": [
    "1. Design an algorithim that takes a string of alphanumeric values as an input and then applies RLE compression. "
   ]
  },
  {
   "cell_type": "markdown",
   "metadata": {},
   "source": [
    "# References"
   ]
  },
  {
   "cell_type": "markdown",
   "metadata": {},
   "source": [
    "- http://lemire.me/blog/archives/2012/02/08/effective-compression-using-frame-of-reference-and-delta-coding/\n",
    "- http://en.wikipedia.org/wiki/Kullback%E2%80%93Leibler_divergence\n",
    "- http://en.wikipedia.org/wiki/Lossless_compression\n",
    "http://www-math.mit.edu/~shor/PAM/lempel_ziv_notes.pdf"
   ]
  },
  {
   "cell_type": "code",
   "execution_count": null,
   "metadata": {
    "collapsed": true
   },
   "outputs": [],
   "source": []
  }
 ],
 "metadata": {
  "kernelspec": {
   "display_name": "Python 2",
   "language": "python",
   "name": "python2"
  },
  "language_info": {
   "codemirror_mode": {
    "name": "ipython",
    "version": 2
   },
   "file_extension": ".py",
   "mimetype": "text/x-python",
   "name": "python",
   "nbconvert_exporter": "python",
   "pygments_lexer": "ipython2",
   "version": "2.7.6"
  }
 },
 "nbformat": 4,
 "nbformat_minor": 0
}
