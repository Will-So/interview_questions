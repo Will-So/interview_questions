{
 "cells": [
  {
   "cell_type": "markdown",
   "metadata": {},
   "source": [
    "ROC curves and AUC are great ways to evaluate how well statistical and machine learning models predict outcomes. Specifically, it gives us a good summary of the performance of our model based on \n",
    "\n",
    "Here is a picture I borrowed from [Wikipedia](https://en.wikipedia.org/wiki/Receiver_operating_characteristic)\n",
    "![](https://upload.wikimedia.org/wikipedia/commons/3/36/ROC_space-2.png)"
   ]
  },
  {
   "cell_type": "markdown",
   "metadata": {},
   "source": [
    "# Using it in R"
   ]
  },
  {
   "cell_type": "markdown",
   "metadata": {},
   "source": [
    "In R, once we make a prediction[1] we can plot the ROC uins gthe following code.\n",
    "\n",
    "```R\n",
    "library(ROCR)\n",
    "pr <- prediction(p, test$Survived)\n",
    "prf <- performance(pr, measure = \"tpr\", x.measure = \"fpr\")\n",
    "plot(prf)\n",
    "```\n",
    "Where the `Survived` is the value that we are trying to predict and `p` is the model that we have predicted using the `predict` function. \n",
    "\n",
    "We can then calculate AUC using this command\n",
    "\n",
    "```R\n",
    "auc <- performance(pr, measure = \"auc\")\n",
    "auc@y.values[[1]]  # This just extracts the correct slot\n",
    "```"
   ]
  },
  {
   "cell_type": "markdown",
   "metadata": {},
   "source": [
    "//todo plotting ROC"
   ]
  },
  {
   "cell_type": "markdown",
   "metadata": {},
   "source": [
    "# Using it in Python"
   ]
  },
  {
   "cell_type": "markdown",
   "metadata": {},
   "source": [
    "TODO:"
   ]
  }
 ],
 "metadata": {
  "kernelspec": {
   "display_name": "Python 3",
   "language": "python",
   "name": "python3"
  },
  "language_info": {
   "codemirror_mode": {
    "name": "ipython",
    "version": 3
   },
   "file_extension": ".py",
   "mimetype": "text/x-python",
   "name": "python",
   "nbconvert_exporter": "python",
   "pygments_lexer": "ipython3",
   "version": "3.5.1"
  }
 },
 "nbformat": 4,
 "nbformat_minor": 0
}
