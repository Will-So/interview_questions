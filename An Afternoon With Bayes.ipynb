{
 "cells": [
  {
   "cell_type": "markdown",
   "metadata": {},
   "source": [
    "# Contents"
   ]
  },
  {
   "cell_type": "markdown",
   "metadata": {},
   "source": [
    "1. Bayes Rule\n",
    "2. An Example A/B Testing With Naive Bayes\n",
    "3. BSTS\n",
    "4. Naive Bayes\n",
    "5. MCMC"
   ]
  },
  {
   "cell_type": "markdown",
   "metadata": {},
   "source": [
    "# Bayes Rule and the canonical example"
   ]
  },
  {
   "cell_type": "markdown",
   "metadata": {},
   "source": [
    "## Deriving Bayes Rule"
   ]
  },
  {
   "cell_type": "markdown",
   "metadata": {},
   "source": [
    "Bayes rule is easy to derive from the following identity: $P(A,B) = P(A)P(B\\mid A)$. In words, the chances of A and B occuring is equal to the probability of A occuring times the probability of B given that A has occured. Because $P(A,B) = P(B,A)$ , we can also say that $P(B,A) = P(B)P(A\\mid B)$. Setting both right hand sides equal, we get that\n",
    "\n",
    "$$ P(A \\mid B) = \\frac{P(A)P(B \\mid A)}{P(B)} $$,\n",
    "\n",
    "which is bayes rule. "
   ]
  },
  {
   "cell_type": "markdown",
   "metadata": {},
   "source": [
    "## A canononical example"
   ]
  },
  {
   "cell_type": "markdown",
   "metadata": {},
   "source": []
  },
  {
   "cell_type": "markdown",
   "metadata": {},
   "source": [
    "# A/B Testing "
   ]
  },
  {
   "cell_type": "markdown",
   "metadata": {},
   "source": [
    "Say that we are responsible for improving the useage rate of a feature on a media sharing website. Currently 50% of the users use the feature. We want to see if we can improve that."
   ]
  },
  {
   "cell_type": "markdown",
   "metadata": {},
   "source": [
    "## Choosing Prior Parameters"
   ]
  },
  {
   "cell_type": "markdown",
   "metadata": {},
   "source": [
    "Before we get started, we need to select a prior mean and prior standard deviation for each of our experiments. "
   ]
  },
  {
   "cell_type": "code",
   "execution_count": 1,
   "metadata": {
    "collapsed": true
   },
   "outputs": [],
   "source": [
    "mu_prior = [0.5, 0.5] # Prior for the A group (control) and B (Treatment Group)\n",
    "sigma_prior = [0.1, 0.1]\n",
    "delta = 0.02 # We want there to be at least a 2% increase before we change to the treatment condition"
   ]
  },
  {
   "cell_type": "markdown",
   "metadata": {},
   "source": [
    "We run our experiment and we end up getting the following results:"
   ]
  },
  {
   "cell_type": "markdown",
   "metadata": {},
   "source": [
    "## Running the Experiment"
   ]
  },
  {
   "cell_type": "code",
   "execution_count": 20,
   "metadata": {
    "collapsed": false
   },
   "outputs": [],
   "source": [
    "uses = [9876, 5230]\n",
    "visitors = [19400, 9580]"
   ]
  },
  {
   "cell_type": "code",
   "execution_count": 21,
   "metadata": {
    "collapsed": false
   },
   "outputs": [],
   "source": [
    "from scipy.special import betaln\n",
    "from math import exp, log\n",
    "\n",
    "def probability_b_better(a_success, a_failure, b_success, b_failure):\n",
    "    \"\"\"Computes the probability that our b \n",
    "    \n",
    "    We use the beta distribution here because it is a good prior distribution for modeling \n",
    "    bionomial parameter p\n",
    "    \"\"\"\n",
    "    total = 0.0\n",
    "    for i in range(b_success - 1):\n",
    "        total += exp(betaln(a_success + i, b_failure + a_failure) - \n",
    "                    log(b_failure + i) - betaln(1 + i, b_failure) -\n",
    "                    betaln(a_success, b_success))\n",
    "    return total"
   ]
  },
  {
   "cell_type": "code",
   "execution_count": 22,
   "metadata": {
    "collapsed": false
   },
   "outputs": [
    {
     "data": {
      "text/plain": [
       "0.0"
      ]
     },
     "execution_count": 22,
     "metadata": {},
     "output_type": "execute_result"
    }
   ],
   "source": [
    "probability_b_better(uses[0] + 1, visitors[0] - uses[0] + 1, \n",
    "                    uses[1] + 1, visitors[1] - uses[1] + 1)"
   ]
  },
  {
   "cell_type": "markdown",
   "metadata": {},
   "source": [
    "## Another Approach: Simulation"
   ]
  },
  {
   "cell_type": "code",
   "execution_count": 32,
   "metadata": {
    "collapsed": false
   },
   "outputs": [],
   "source": [
    "from numpy.random import beta as beta_dist\n",
    "import numpy as np\n",
    "N_samp = 10000 # number of samples to draw\n",
    "clicks_A = uses[0]\n",
    "views_A = visitors[0]\n",
    "clicks_B = uses[1]\n",
    "views_B = visitors[1]\n",
    "alpha = 1.1 # just for the example - set your own!\n",
    "beta = 1\n",
    "A_samples = beta_dist(clicks_A + alpha, views_A - clicks_A + beta, N_samp)\n",
    "B_samples = beta_dist(clicks_B + alpha, views_B - clicks_B + beta, N_samp)"
   ]
  },
  {
   "cell_type": "markdown",
   "metadata": {},
   "source": [
    "This is the posterior probability that A is greater than B"
   ]
  },
  {
   "cell_type": "code",
   "execution_count": 37,
   "metadata": {
    "collapsed": false
   },
   "outputs": [
    {
     "data": {
      "text/plain": [
       "10000"
      ]
     },
     "execution_count": 37,
     "metadata": {},
     "output_type": "execute_result"
    }
   ],
   "source": [
    "len(A_samples)"
   ]
  },
  {
   "cell_type": "code",
   "execution_count": 35,
   "metadata": {
    "collapsed": false
   },
   "outputs": [
    {
     "data": {
      "text/plain": [
       "1.0"
      ]
     },
     "execution_count": 35,
     "metadata": {},
     "output_type": "execute_result"
    }
   ],
   "source": [
    "np.mean(B_samples > A_samples)"
   ]
  },
  {
   "cell_type": "markdown",
   "metadata": {},
   "source": [
    "We can also estimate the probability that A relative to B is at least 10% greater"
   ]
  },
  {
   "cell_type": "code",
   "execution_count": 34,
   "metadata": {
    "collapsed": false
   },
   "outputs": [
    {
     "data": {
      "text/plain": [
       "0.57620000000000005"
      ]
     },
     "execution_count": 34,
     "metadata": {},
     "output_type": "execute_result"
    }
   ],
   "source": [
    "np.mean((B_samples - A_samples)/ A_samples > .07) "
   ]
  },
  {
   "cell_type": "markdown",
   "metadata": {},
   "source": [
    "As we can see, simulation is quite a lot easier than "
   ]
  },
  {
   "cell_type": "markdown",
   "metadata": {},
   "source": [
    "## Advantages of Bayesian A/B Testing"
   ]
  },
  {
   "cell_type": "markdown",
   "metadata": {},
   "source": []
  },
  {
   "cell_type": "markdown",
   "metadata": {},
   "source": [
    "# Further Reading"
   ]
  },
  {
   "cell_type": "markdown",
   "metadata": {},
   "source": [
    "1. How programming makes [stats](https://speakerdeck.com/jakevdp/statistics-for-hackers) easy\n",
    "2. How Bayesian stats doesn't avoid the [peeking rule](http://varianceexplained.org/r/bayesian-ab-testing/)"
   ]
  },
  {
   "cell_type": "code",
   "execution_count": null,
   "metadata": {
    "collapsed": true
   },
   "outputs": [],
   "source": []
  }
 ],
 "metadata": {
  "kernelspec": {
   "display_name": "Python 3",
   "language": "python",
   "name": "python3"
  },
  "language_info": {
   "codemirror_mode": {
    "name": "ipython",
    "version": 3
   },
   "file_extension": ".py",
   "mimetype": "text/x-python",
   "name": "python",
   "nbconvert_exporter": "python",
   "pygments_lexer": "ipython3",
   "version": "3.5.1"
  }
 },
 "nbformat": 4,
 "nbformat_minor": 0
}
