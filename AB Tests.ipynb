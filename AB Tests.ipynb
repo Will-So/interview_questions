{
 "cells": [
  {
   "cell_type": "markdown",
   "metadata": {},
   "source": [
    "# Testing if assignment is truly random"
   ]
  },
  {
   "cell_type": "markdown",
   "metadata": {},
   "source": [
    "There are a couple different ways we can test if assignment to buckets is random.\n",
    "\n",
    "The most straightforward way is to make sure that users have similar demographics. In the world of Google Analytics, this is quite straight forward. We can look at the ages, gender, location, and other info of our users.\n",
    "\n",
    "Another thing we want to look at is where users are coming from. If 10% of users are coming from the New York Times' website and the other bucket has 1%, that means that our buckets likely aren't iid. "
   ]
  },
  {
   "cell_type": "markdown",
   "metadata": {},
   "source": [
    "# The benefits of Running an A/A Test"
   ]
  },
  {
   "cell_type": "markdown",
   "metadata": {},
   "source": [
    "An A/A test is good to verify our experimental design. "
   ]
  },
  {
   "cell_type": "markdown",
   "metadata": {},
   "source": [
    "$y = B_0 * log(x) + B_1 * z + \\beta_3 x_2^2 +  \\epsilon$"
   ]
  },
  {
   "cell_type": "markdown",
   "metadata": {},
   "source": [
    "# What would be the Hazards of Letting Users sneak a peak at the other bucket"
   ]
  },
  {
   "cell_type": "markdown",
   "metadata": {},
   "source": [
    "# Issues if a popular website covers one of the experimental groups"
   ]
  },
  {
   "cell_type": "markdown",
   "metadata": {},
   "source": [
    "# Useful Links\n",
    "- [A/A](http://kadavy.net/blog/posts/aa-testing/) Increasing conversion by 300%\n",
    "- http://drjasondavis.com/blog/2013/09/12/eight-ways-youve-misconfigured-your-ab-test\n"
   ]
  }
 ],
 "metadata": {
  "kernelspec": {
   "display_name": "Python 3",
   "language": "python",
   "name": "python3"
  },
  "language_info": {
   "codemirror_mode": {
    "name": "ipython",
    "version": 3
   },
   "file_extension": ".py",
   "mimetype": "text/x-python",
   "name": "python",
   "nbconvert_exporter": "python",
   "pygments_lexer": "ipython3",
   "version": "3.4.3"
  }
 },
 "nbformat": 4,
 "nbformat_minor": 0
}
