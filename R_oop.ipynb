{
 "cells": [
  {
   "cell_type": "markdown",
   "metadata": {},
   "source": [
    "# S3 Objects"
   ]
  },
  {
   "cell_type": "markdown",
   "metadata": {},
   "source": [
    "R is mostly a functional programming language but has objects as well. There are two different OOP systems called S3 and S4. S4 is more OO but harder to work with. Base R uses S3 almost exclussively. **An S3 class is usually a list with a class attribute** \n",
    "\n",
    "`class(obj) = 'class.name'`\n",
    "\n",
    "Making a new method:\n",
    "\n",
    "![](https://dl.dropboxusercontent.com/u/97258109/Screens/S3725.png)\n",
    "Source: http://www.math.ku.dk/~richard/courses/bioconductor2009/handout/17_08_Monday/OOP-handouts.pdf\n",
    "\n",
    "\n"
   ]
  },
  {
   "cell_type": "markdown",
   "metadata": {},
   "source": [
    "# S4 Objects"
   ]
  },
  {
   "cell_type": "markdown",
   "metadata": {},
   "source": [
    "Improves on type saftey and modularization. \n",
    "\n",
    "- Classes have formal definitions which describe their fields aind inhretance structure\n",
    "- Method dispatch can be based on multiple arguments\n",
    "- Special operator `@` for extracting slots. \n",
    "\n",
    "We can check if a class is s4 with `otype(fit)`\n",
    "```R\n",
    "setClass(\"Person\",\n",
    "slots = list(name = \"character\", age = \"numeric\"))\n",
    " setClass(\"Employee\",\n",
    "slots = list(boss = \"Person\"),\n",
    "  contains = \"Person\")\n",
    "  ```\n",
    "  \n",
    "  `john <- new(\"Employee\", name = \"John\", age = 20, boss = alice)`\n",
    "  \n",
    "Source: Advanced R"
   ]
  },
  {
   "cell_type": "markdown",
   "metadata": {},
   "source": [
    "# Slots"
   ]
  },
  {
   "cell_type": "markdown",
   "metadata": {},
   "source": [
    "Slots are an element (attribute) of an object. They are linked to S4 objects. Here is a good illustration from Stack Overflow:\n",
    "\n",
    "```R\n",
    "setClass(\"Car\",representation=representation(\n",
    "   price = \"numeric\",\n",
    "   numberDoors=\"numeric\",\n",
    "   typeEngine=\"character\",\n",
    "   mileage=\"numeric\"\n",
    "))\n",
    "aCar <- new(\"Car\",price=20000,numberDoors=4,typeEngine=\"V6\",mileage=143)\n",
    "\n",
    "> aCar\n",
    "An object of class \"Car\"\n",
    "Slot \"price\":\n",
    "[1] 20000\n",
    "\n",
    "Slot \"numberDoors\":\n",
    "[1] 4\n",
    "\n",
    "Slot \"typeEngine\":\n",
    "[1] \"V6\"\n",
    "\n",
    "Slot \"mileage\":\n",
    "[1] 143\n",
    "\n",
    "```\n"
   ]
  },
  {
   "cell_type": "markdown",
   "metadata": {},
   "source": [
    "## Accessing \n",
    "```R\n",
    "aCar@price\n",
    "\n",
    "slot(aCar,\"typeEngine\")```"
   ]
  },
  {
   "cell_type": "markdown",
   "metadata": {},
   "source": [
    "# Sources"
   ]
  },
  {
   "cell_type": "markdown",
   "metadata": {},
   "source": [
    "- Good [stack](http://stackoverflow.com/questions/4713968/r-what-are-slots) post on slots."
   ]
  },
  {
   "cell_type": "code",
   "execution_count": null,
   "metadata": {
    "collapsed": true
   },
   "outputs": [],
   "source": []
  }
 ],
 "metadata": {
  "kernelspec": {
   "display_name": "Python 3",
   "language": "python",
   "name": "python3"
  },
  "language_info": {
   "codemirror_mode": {
    "name": "ipython",
    "version": 3
   },
   "file_extension": ".py",
   "mimetype": "text/x-python",
   "name": "python",
   "nbconvert_exporter": "python",
   "pygments_lexer": "ipython3",
   "version": "3.5.1"
  }
 },
 "nbformat": 4,
 "nbformat_minor": 0
}
