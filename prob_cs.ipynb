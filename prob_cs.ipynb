{
 "cells": [
  {
   "cell_type": "markdown",
   "metadata": {},
   "source": [
    "# General Trick of Combinations"
   ]
  },
  {
   "cell_type": "markdown",
   "metadata": {},
   "source": [
    "Num = the count of the good possibilities. Denom = The count of total possibilities. \n",
    "\n",
    "Ants on triangles: Try to think of the behavior of all necessary ones. \n",
    "\n",
    "5 choose 2. Meaning the number of ways to arrange 5 things2 of one kind"
   ]
  },
  {
   "cell_type": "markdown",
   "metadata": {},
   "source": [
    "# Cards\n",
    "Remember that if we draw one and then another, we are dealing rather with \n",
    "\n",
    "Item | Numerator\n",
    "-- | -- \n",
    "Combination Formula | $$\\frac{n!}{k!(n-k)!} $$\n",
    "Permutations Formula | $$ \\frac{n!}{(n-k)!} $$\n",
    "Straight including flush: | $${10 \\choose 1}{4\\choose 1}^5 $$\n",
    "Full House | $${13 \\choose 1}{4 \\choose 3}{12 \\choose 1}{4 \\choose 2}$$ Check this again. It is excluding certain things. \n",
    "One Pair | $$ {13 \\choose 1}{4 \\choose 2}{12 \\choose 3}{4 \\choose 1}^3 $$"
   ]
  },
  {
   "cell_type": "markdown",
   "metadata": {},
   "source": [
    "# Stats"
   ]
  },
  {
   "cell_type": "markdown",
   "metadata": {},
   "source": [
    "$$z={\\frac {M-\\mu }{\\mathrm {SE} }}={\\frac {96-100}{1.62}}=-2.47\\,\\!$$ Where $M$ is the sample mean. \n",
    "$$ {SE} ={\\frac {\\sigma }{\\sqrt {n}}}={\\frac {12}{\\sqrt {55}}}={\\frac {12}{7.42}}=1.62\\,\\! $$"
   ]
  },
  {
   "cell_type": "markdown",
   "metadata": {},
   "source": [
    "The classroom mean score is 96, which is −2.47 standard error units from the population mean of 100. Looking up the z-score in a table of the standard normal distribution, we find that the probability of observing a standard normal value below −2.47 is approximately 0.5 − 0.4932 = 0.0068. This is the one-sided p-value for the null hypothesis that the 55 students are comparable to a simple random sample from the population of all test-takers. The two-sided p-value is approximately 0.014 (twice the one-sided p-value).\n",
    "\n",
    "## One Sided vs Two Sided\n",
    "One sided is for asymmetric distributions that have a single tail. "
   ]
  }
 ],
 "metadata": {
  "kernelspec": {
   "display_name": "Python 3",
   "language": "python",
   "name": "python3"
  },
  "language_info": {
   "codemirror_mode": {
    "name": "ipython",
    "version": 3
   },
   "file_extension": ".py",
   "mimetype": "text/x-python",
   "name": "python",
   "nbconvert_exporter": "python",
   "pygments_lexer": "ipython3",
   "version": "3.4.3"
  }
 },
 "nbformat": 4,
 "nbformat_minor": 0
}
