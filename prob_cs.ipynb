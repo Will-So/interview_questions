{
 "cells": [
  {
   "cell_type": "markdown",
   "metadata": {},
   "source": [
    "1. Probability questions: There are 100 product and 25 of them is bad. What is the confident interval. 2. Maximum likelihood questions: solve exponential function and get the maximum likelihood estimator. 3. Use \"dplyr\" package in R to solve a case.  "
   ]
  },
  {
   "cell_type": "markdown",
   "metadata": {},
   "source": [
    "# Coming Up with Confidence Intervals "
   ]
  },
  {
   "cell_type": "markdown",
   "metadata": {},
   "source": [
    "100 Products and 25 of them is bad. Find a 95% confidence interval of badness. "
   ]
  },
  {
   "cell_type": "markdown",
   "metadata": {},
   "source": [
    "$\\text{Lower endpoint} = \\bar X - 1.96 \\frac{\\sigma}{\\sqrt{n}},$"
   ]
  },
  {
   "cell_type": "code",
   "execution_count": null,
   "metadata": {
    "collapsed": true
   },
   "outputs": [],
   "source": [
    "lower = arr.mean() - 1.96 * (arr.std() / np.sqrt(len(arr)))\n",
    "upper = arr.mean() + 1.96 * (arr.std() / np.sqrt(len(arr)))\n",
    "print(\"95% Confidence interval is:\",lower, upper)"
   ]
  },
  {
   "cell_type": "markdown",
   "metadata": {},
   "source": [
    "Multiple by size to get the result. "
   ]
  },
  {
   "cell_type": "markdown",
   "metadata": {},
   "source": [
    "# Bayesian Cheat Sheet"
   ]
  },
  {
   "cell_type": "markdown",
   "metadata": {},
   "source": [
    "Suppose a drug test is 99% sensitive and 99% specific. That is, the test will produce 99% true positive results for drug users and 99% true negative results for non-drug users. Suppose that 0.5% of people are users of the drug. If a randomly selected individual tests positive, what is the probability he or she is a user?"
   ]
  },
  {
   "cell_type": "markdown",
   "metadata": {},
   "source": [
    "$$P(A|B) = \\frac{P(B | A) \\, P(A)}{P(B)},$$\n",
    "\n",
    "$$\n",
    "\\begin{align}\n",
    "P(\\text{User}\\mid\\text{+}) &= \\frac{P(\\text{+}\\mid\\text{User}) P(\\text{User})}{P(\\text{+}\\mid\\text{User}) P(\\text{User}) + P(\\text{+}\\mid\\text{Non-user}) P(\\text{Non-user})} \\\\[8pt]\n",
    "&= \\frac{0.99 \\times 0.005}{0.99 \\times 0.005 + 0.01 \\times 0.995} \\\\[8pt]\n",
    "&\\approx 33.2\\%\n",
    "\\end{align}$$"
   ]
  },
  {
   "cell_type": "markdown",
   "metadata": {},
   "source": [
    "# Multiple Comparison Penalty"
   ]
  },
  {
   "cell_type": "markdown",
   "metadata": {},
   "source": []
  },
  {
   "cell_type": "markdown",
   "metadata": {},
   "source": [
    "# Maximum Likelihood"
   ]
  },
  {
   "cell_type": "markdown",
   "metadata": {},
   "source": [
    "## General Idea"
   ]
  },
  {
   "cell_type": "markdown",
   "metadata": {},
   "source": [
    "1. Choose a model\n",
    "    - Speicfy the joint density of observations. In the case of iid we can use. $\n",
    "    f(x_1,x_2,\\ldots,x_n\\mid\\theta) = f(x_1\\mid \\theta)\\times f(x_2|\\theta) \\times \\cdots \\times  f(x_n\\mid \\theta).\n",
    "  $\n",
    "2. Choose a likelihood function\n",
    "    - Consider observed values $x_1$... to be fixed parameters and $\\theta$ is the function's variable. $\\mathcal{L}(\\theta\\,;\\,x_1,\\ldots,x_n) = f(x_1,x_2,\\ldots,x_n\\mid\\theta) = \\prod_{i=1}^n f(x_i\\mid\\theta).$\n",
    "    - Take log likelihood $\n",
    "    \\ln\\mathcal{L}(\\theta\\,;\\,x_1,\\ldots,x_n) = \\sum_{i=1}^n \\ln f(x_i\\mid\\theta),\n",
    "  $\n",
    "3. Maximize the parameters of a model to maximize the likelihood\n",
    "    - \n",
    "    $\\{ \\hat\\theta_\\mathrm{mle}\\} \\subseteq \\{ \\underset{\\theta\\in\\Theta}{\\operatorname{arg\\,max}}\\ \\hat\\ell(\\theta\\,;\\,x_1,\\ldots,x_n) \\},$\n",
    "\n",
    "\n",
    "Coincides with most probabile bayesian estimator given a [uniform](https://en.wikipedia.org/wiki/Maximum_a_posteriori_estimation) prior distribution."
   ]
  },
  {
   "cell_type": "markdown",
   "metadata": {},
   "source": [
    "## Assumptions"
   ]
  },
  {
   "cell_type": "markdown",
   "metadata": {},
   "source": [
    "1. The model is identification. $\\theta$ corresponds to different distributions within the model. \n",
    "2. Parameter space is compact. Ensures that there is a global maximum\n",
    "3. The function is continious for almost all functions in X\n",
    "4. Dominance. "
   ]
  },
  {
   "cell_type": "markdown",
   "metadata": {},
   "source": [
    "## Properties"
   ]
  },
  {
   "cell_type": "markdown",
   "metadata": {},
   "source": [
    "- Consistent. Converges almost surely"
   ]
  },
  {
   "cell_type": "markdown",
   "metadata": {},
   "source": [
    "## Example: Normal Distribution"
   ]
  },
  {
   "cell_type": "markdown",
   "metadata": {},
   "source": [
    "$$f(x_1,\\ldots,x_n \\mid \\mu,\\sigma^2) = \\prod_{i=1}^{n} f( x_{i}\\mid  \\mu, \\sigma^2) = \\left( \\frac{1}{2\\pi\\sigma^2} \\right)^{n/2} \\exp\\left( -\\frac{ \\sum_{i=1}^{n}(x_i-\\mu)^2}{2\\sigma^2}\\right),$$"
   ]
  },
  {
   "cell_type": "markdown",
   "metadata": {},
   "source": [
    "# General Trick of Combinations"
   ]
  },
  {
   "cell_type": "markdown",
   "metadata": {},
   "source": [
    "Num = the count of the good possibilities. Denom = The count of total possibilities. \n",
    "\n",
    "Ants on triangles: Try to think of the behavior of all necessary ones. \n",
    "\n",
    "5 choose 2. Meaning the number of ways to arrange 5 things2 of one kind"
   ]
  },
  {
   "cell_type": "markdown",
   "metadata": {},
   "source": [
    "# Cards\n",
    "Remember that if we draw one and then another, we are dealing rather with \n",
    "\n",
    "Item | Numerator\n",
    "-- | -- \n",
    "Combination Formula | $$\\frac{n!}{k!(n-k)!} $$\n",
    "Permutations Formula | $$ \\frac{n!}{(n-k)!} $$\n",
    "Straight including flush: | $${10 \\choose 1}{4\\choose 1}^5 $$\n",
    "Full House | $${13 \\choose 1}{4 \\choose 3}{12 \\choose 1}{4 \\choose 2}$$ Check this again. It is excluding certain things. \n",
    "One Pair | $$ {13 \\choose 1}{4 \\choose 2}{12 \\choose 3}{4 \\choose 1}^3 $$"
   ]
  },
  {
   "cell_type": "markdown",
   "metadata": {},
   "source": [
    "# Stats"
   ]
  },
  {
   "cell_type": "markdown",
   "metadata": {},
   "source": [
    "$$z={\\frac {M-\\mu }{\\mathrm {SE} }}={\\frac {96-100}{1.62}}=-2.47\\,\\!$$ Where $M$ is the sample mean. \n",
    "$$ {SE} ={\\frac {\\sigma }{\\sqrt {n}}}={\\frac {12}{\\sqrt {55}}}={\\frac {12}{7.42}}=1.62\\,\\! $$"
   ]
  },
  {
   "cell_type": "markdown",
   "metadata": {},
   "source": [
    "The classroom mean score is 96, which is −2.47 standard error units from the population mean of 100. Looking up the z-score in a table of the standard normal distribution, we find that the probability of observing a standard normal value below −2.47 is approximately 0.5 − 0.4932 = 0.0068. This is the one-sided p-value for the null hypothesis that the 55 students are comparable to a simple random sample from the population of all test-takers. The two-sided p-value is approximately 0.014 (twice the one-sided p-value).\n",
    "\n",
    "## One Sided vs Two Sided\n",
    "One sided is for asymmetric distributions that have a single tail. "
   ]
  }
 ],
 "metadata": {
  "kernelspec": {
   "display_name": "Python 3",
   "language": "python",
   "name": "python3"
  },
  "language_info": {
   "codemirror_mode": {
    "name": "ipython",
    "version": 3
   },
   "file_extension": ".py",
   "mimetype": "text/x-python",
   "name": "python",
   "nbconvert_exporter": "python",
   "pygments_lexer": "ipython3",
   "version": "3.5.1"
  }
 },
 "nbformat": 4,
 "nbformat_minor": 0
}
