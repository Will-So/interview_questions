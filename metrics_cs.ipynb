{
 "cells": [
  {
   "cell_type": "markdown",
   "metadata": {},
   "source": [
    "# LinkedIn Example"
   ]
  },
  {
   "cell_type": "markdown",
   "metadata": {},
   "source": [
    "- FIrst and second derivatives\n",
    "- Habit path\n",
    "- Implicit features. \n",
    "- Repeat Useage\n",
    "- Percentage of requests that can be automatically handled "
   ]
  },
  {
   "cell_type": "markdown",
   "metadata": {},
   "source": [
    "Useage Side\n",
    "\n",
    "- Time used per day (newstream)\n",
    "- Retention rate\n",
    "- Post rate\n",
    "- CTR of both ads and news items\n",
    "\n",
    "Service side\n",
    "\n",
    "- Search Results are good\n",
    "- Number of searches/clicks peruser per month for other profiles out of network\n",
    "- People apply to jobs applications/user/year\n"
   ]
  },
  {
   "cell_type": "markdown",
   "metadata": {},
   "source": [
    "![](https://dl.dropboxusercontent.com/u/97258109/Screens/S3680.png)\n"
   ]
  },
  {
   "cell_type": "code",
   "execution_count": null,
   "metadata": {
    "collapsed": true
   },
   "outputs": [],
   "source": []
  }
 ],
 "metadata": {
  "kernelspec": {
   "display_name": "Python 3",
   "language": "python",
   "name": "python3"
  },
  "language_info": {
   "codemirror_mode": {
    "name": "ipython",
    "version": 3
   },
   "file_extension": ".py",
   "mimetype": "text/x-python",
   "name": "python",
   "nbconvert_exporter": "python",
   "pygments_lexer": "ipython3",
   "version": "3.4.3"
  }
 },
 "nbformat": 4,
 "nbformat_minor": 0
}
